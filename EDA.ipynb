{
 "metadata": {
  "language_info": {
   "codemirror_mode": {
    "name": "ipython",
    "version": 3
   },
   "file_extension": ".py",
   "mimetype": "text/x-python",
   "name": "python",
   "nbconvert_exporter": "python",
   "pygments_lexer": "ipython3",
   "version": "3.7.7-final"
  },
  "orig_nbformat": 2,
  "kernelspec": {
   "name": "python_defaultSpec_1600749593442",
   "display_name": "Python 3.7.7 64-bit"
  }
 },
 "nbformat": 4,
 "nbformat_minor": 2,
 "cells": [
  {
   "cell_type": "code",
   "execution_count": 1,
   "metadata": {},
   "outputs": [],
   "source": [
    "import os\n",
    "import numpy as np"
   ]
  },
  {
   "cell_type": "code",
   "execution_count": 2,
   "metadata": {
    "tags": []
   },
   "outputs": [],
   "source": [
    "dataset_dir='dataset'\n",
    "files_count=[]\n",
    "for i in range(1500):\n",
    "    count=0\n",
    "    for f in os.listdir(dataset_dir+'/'+str(i).zfill(4)):\n",
    "        if os.path.isfile(dataset_dir+'/'+str(i).zfill(4)+'/'+f):\n",
    "            count+=1\n",
    "    files_count.append(count)"
   ]
  },
  {
   "cell_type": "code",
   "execution_count": 3,
   "metadata": {
    "tags": []
   },
   "outputs": [
    {
     "output_type": "stream",
     "name": "stdout",
     "text": "Total image: 25992\nMax image count: 72\nMin image count: 2\nTotal classes: 1500\n"
    },
    {
     "output_type": "execute_result",
     "data": {
      "text/plain": "(array([139], dtype=int64),)"
     },
     "metadata": {},
     "execution_count": 3
    }
   ],
   "source": [
    "files_count=np.array(files_count)\n",
    "print(\"Total image:\",sum(files_count))\n",
    "print(\"Max image count:\",max(files_count))\n",
    "print(\"Min image count:\",min(files_count))\n",
    "print(\"Total classes:\",len(files_count))\n",
    "np.where(files_count==72)\n"
   ]
  },
  {
   "cell_type": "code",
   "execution_count": 7,
   "metadata": {},
   "outputs": [],
   "source": [
    "dataset_dir='dataset_seperate/test'\n",
    "files_count=[]\n",
    "for i in range(1500):\n",
    "    count=0\n",
    "    for f in os.listdir(dataset_dir+'/'+str(i).zfill(4)):\n",
    "        if os.path.isfile(dataset_dir+'/'+str(i).zfill(4)+'/'+f):\n",
    "            count+=1\n",
    "    files_count.append(count)"
   ]
  },
  {
   "cell_type": "code",
   "execution_count": 8,
   "metadata": {
    "tags": []
   },
   "outputs": [
    {
     "output_type": "stream",
     "name": "stdout",
     "text": "Total image: 7751\nMax image count: 23\nMin image count: 0\nTotal classes: 1500\n"
    },
    {
     "output_type": "execute_result",
     "data": {
      "text/plain": "(array([], dtype=int64),)"
     },
     "metadata": {},
     "execution_count": 8
    }
   ],
   "source": [
    "files_count=np.array(files_count)\n",
    "print(\"Total image:\",sum(files_count))\n",
    "print(\"Max image count:\",max(files_count))\n",
    "print(\"Min image count:\",min(files_count))\n",
    "print(\"Total classes:\",len(files_count))\n",
    "np.where(files_count==72)"
   ]
  },
  {
   "cell_type": "code",
   "execution_count": null,
   "metadata": {},
   "outputs": [],
   "source": []
  }
 ]
}