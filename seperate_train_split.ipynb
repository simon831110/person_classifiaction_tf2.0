{
 "metadata": {
  "language_info": {
   "codemirror_mode": {
    "name": "ipython",
    "version": 3
   },
   "file_extension": ".py",
   "mimetype": "text/x-python",
   "name": "python",
   "nbconvert_exporter": "python",
   "pygments_lexer": "ipython3",
   "version": "3.7.7-final"
  },
  "orig_nbformat": 2,
  "kernelspec": {
   "name": "python_defaultSpec_1600749627996",
   "display_name": "Python 3.7.7 64-bit"
  }
 },
 "nbformat": 4,
 "nbformat_minor": 2,
 "cells": [
  {
   "cell_type": "code",
   "execution_count": 1,
   "metadata": {},
   "outputs": [],
   "source": [
    "import os\n",
    "import random"
   ]
  },
  {
   "cell_type": "code",
   "execution_count": 4,
   "metadata": {},
   "outputs": [],
   "source": [
    "random.seed(9487)\n",
    "if not os.path.isdir('dataset_seperate'):\n",
    "    os.mkdir('dataset_seperate')\n",
    "if not os.path.isdir('dataset_seperate/test'):\n",
    "    os.mkdir('dataset_seperate/test')\n",
    "if not os.path.isdir('dataset_seperate/train'):\n",
    "    os.mkdir('dataset_seperate/train')\n",
    "for i in range(1500):\n",
    "    os.mkdir('dataset_seperate/train/'+str(i).zfill(4))\n",
    "    os.mkdir('dataset_seperate/test/'+str(i).zfill(4))\n"
   ]
  },
  {
   "cell_type": "code",
   "execution_count": null,
   "metadata": {},
   "outputs": [],
   "source": [
    "from shutil import copyfile\n",
    "dataset_dir='dataset'\n",
    "dataset_dst_dir='dataset_seperate'\n",
    "for i in range(1500):\n",
    "    for f in os.listdir(dataset_dir+'/'+str(i).zfill(4)):\n",
    "        if os.path.isfile(dataset_dir+'/'+str(i).zfill(4)+'/'+f) and random.random()<=0.3:\n",
    "            copyfile(dataset_dir+'/'+str(i).zfill(4)+'/'+f,dataset_dst_dir+'/test/'+str(i).zfill(4)+'/'+f)\n",
    "        else:\n",
    "            copyfile(dataset_dir+'/'+str(i).zfill(4)+'/'+f,dataset_dst_dir+'/train/'+str(i).zfill(4)+'/'+f)\n",
    "            "
   ]
  },
  {
   "cell_type": "code",
   "execution_count": null,
   "metadata": {},
   "outputs": [],
   "source": []
  }
 ]
}